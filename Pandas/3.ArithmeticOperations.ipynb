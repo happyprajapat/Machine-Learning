{
 "cells": [
  {
   "attachments": {},
   "cell_type": "markdown",
   "metadata": {},
   "source": [
    "Arithemetic Operations\n"
   ]
  },
  {
   "cell_type": "code",
   "execution_count": 1,
   "metadata": {},
   "outputs": [],
   "source": [
    "import pandas as pd"
   ]
  },
  {
   "cell_type": "code",
   "execution_count": 3,
   "metadata": {},
   "outputs": [
    {
     "name": "stdout",
     "output_type": "stream",
     "text": [
      "   A  B\n",
      "0  1  6\n",
      "1  2  7\n",
      "2  3  8\n",
      "3  4  9\n",
      "4  5  0\n"
     ]
    }
   ],
   "source": [
    "var = pd.DataFrame({\"A\":[1,2,3,4,5],\"B\":[6,7,8,9,0]})\n",
    "print(var)"
   ]
  },
  {
   "cell_type": "code",
   "execution_count": 6,
   "metadata": {},
   "outputs": [
    {
     "name": "stdout",
     "output_type": "stream",
     "text": [
      "   A  B  Add  Substract  Multiply  Divide\n",
      "0  1  6    7         -5         6     0.0\n",
      "1  2  7    9         -5        14     0.0\n",
      "2  3  8   11         -5        24     0.0\n",
      "3  4  9   13         -5        36     0.0\n",
      "4  5  0    5          5         0     inf\n"
     ]
    }
   ],
   "source": [
    "\n",
    "var[\"Add\"]=var[\"A\"]+var[\"B\"]\n",
    "var[\"Substract\"]=var[\"A\"]-var[\"B\"]\n",
    "var[\"Multiply\"]=var[\"A\"]*var[\"B\"]\n",
    "var[\"Divide\"]=var[\"A\"]//var[\"B\"]\n",
    "\n",
    "\n",
    "print(var)"
   ]
  },
  {
   "cell_type": "code",
   "execution_count": 7,
   "metadata": {},
   "outputs": [
    {
     "name": "stdout",
     "output_type": "stream",
     "text": [
      "    A    B  GreaterThan30OrNot\n",
      "0  10   60                True\n",
      "1  20   70                True\n",
      "2  30   80                True\n",
      "3  40   90               False\n",
      "4  50  100               False\n"
     ]
    }
   ],
   "source": [
    "var1 = pd.DataFrame({\"A\":[10,20,30,40,50],\"B\":[60,70,80,90,100]})\n",
    "\n",
    "var1[\"GreaterThan30OrNot\"]=var1[\"A\"]<=30\n",
    "\n",
    "print(var1)"
   ]
  },
  {
   "cell_type": "code",
   "execution_count": null,
   "metadata": {},
   "outputs": [],
   "source": []
  }
 ],
 "metadata": {
  "kernelspec": {
   "display_name": "Python 3",
   "language": "python",
   "name": "python3"
  },
  "language_info": {
   "codemirror_mode": {
    "name": "ipython",
    "version": 3
   },
   "file_extension": ".py",
   "mimetype": "text/x-python",
   "name": "python",
   "nbconvert_exporter": "python",
   "pygments_lexer": "ipython3",
   "version": "3.11.3"
  },
  "orig_nbformat": 4
 },
 "nbformat": 4,
 "nbformat_minor": 2
}
