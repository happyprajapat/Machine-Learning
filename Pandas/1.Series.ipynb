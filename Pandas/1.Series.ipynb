{
 "cells": [
  {
   "attachments": {},
   "cell_type": "markdown",
   "metadata": {},
   "source": [
    "Series"
   ]
  },
  {
   "cell_type": "code",
   "execution_count": 1,
   "metadata": {},
   "outputs": [
    {
     "name": "stdout",
     "output_type": "stream",
     "text": [
      "a    3.0\n",
      "b    6.0\n",
      "c    8.0\n",
      "d    7.0\n",
      "Name: Random, dtype: float64\n",
      "<class 'pandas.core.series.Series'>\n",
      "6.0\n"
     ]
    }
   ],
   "source": [
    "import pandas as pd\n",
    "\n",
    "x=[3,6,8,7]\n",
    "\n",
    "# var = pd.Series(x)\n",
    "\n",
    "# We can chng the index also as required\n",
    "# var = pd.Series(x, index=['a','b','c','d'])\n",
    "\n",
    "#  We can chng the datatype too\n",
    "# var = pd.Series(x, index=['a','b','c','d'],dtype='float')\n",
    "\n",
    "# We can add data list name also\n",
    "var = pd.Series(x, index=['a','b','c','d'],dtype='float',name=\"Random\")\n",
    "\n",
    "print(var)\n",
    "print(type(var))\n",
    "\n",
    "# We can manupulate any element using index number\n",
    "print(var[1])"
   ]
  },
  {
   "cell_type": "code",
   "execution_count": 2,
   "metadata": {},
   "outputs": [
    {
     "data": {
      "text/plain": [
       "Name    [Python, c, c++, java]\n",
       "por           [12, 13, 14, 15]\n",
       "rank              [1, 4, 3, 2]\n",
       "dtype: object"
      ]
     },
     "execution_count": 2,
     "metadata": {},
     "output_type": "execute_result"
    }
   ],
   "source": [
    "dic = {\"Name\":['Python','c','c++','java'],\"por\":[12,13,14,15],\"rank\":[1,4,3,2]}\n",
    "\n",
    "var1 = pd.Series(dic)\n",
    "\n",
    "var1"
   ]
  },
  {
   "cell_type": "code",
   "execution_count": 3,
   "metadata": {},
   "outputs": [
    {
     "name": "stdout",
     "output_type": "stream",
     "text": [
      "1    1\n",
      "2    1\n",
      "3    1\n",
      "4    1\n",
      "5    1\n",
      "6    1\n",
      "7    1\n",
      "8    1\n",
      "dtype: int64\n",
      "<class 'pandas.core.series.Series'>\n"
     ]
    }
   ],
   "source": [
    "# Moreover only one element can also be passed\n",
    "\n",
    "# s=pd.Series(1)\n",
    "\n",
    "s=pd.Series(1,index=[1,2,3,4,5,6,7,8])\n",
    "\n",
    "print(s)\n",
    "print(type(s))"
   ]
  },
  {
   "cell_type": "code",
   "execution_count": 4,
   "metadata": {},
   "outputs": [
    {
     "name": "stdout",
     "output_type": "stream",
     "text": [
      "1    2.0\n",
      "2    2.0\n",
      "3    2.0\n",
      "4    2.0\n",
      "5    2.0\n",
      "6    NaN\n",
      "7    NaN\n",
      "8    NaN\n",
      "dtype: float64\n"
     ]
    }
   ],
   "source": [
    "# Adding s1 and s2\n",
    "s1=pd.Series(1,index=[1,2,3,4,5,6,7,8])\n",
    "s2=pd.Series(1,index=[1,2,3,4,5])\n",
    "# Since number of elements are unequal so The remaining will show NaN where as in NumpPy  gives an broadcast error \n",
    "\n",
    "print(s1+s2)"
   ]
  }
 ],
 "metadata": {
  "kernelspec": {
   "display_name": "Python 3",
   "language": "python",
   "name": "python3"
  },
  "language_info": {
   "codemirror_mode": {
    "name": "ipython",
    "version": 3
   },
   "file_extension": ".py",
   "mimetype": "text/x-python",
   "name": "python",
   "nbconvert_exporter": "python",
   "pygments_lexer": "ipython3",
   "version": "3.11.3"
  },
  "orig_nbformat": 4
 },
 "nbformat": 4,
 "nbformat_minor": 2
}
