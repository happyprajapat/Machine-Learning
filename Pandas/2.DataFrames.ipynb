{
 "cells": [
  {
   "attachments": {},
   "cell_type": "markdown",
   "metadata": {},
   "source": [
    "DataFrame\n"
   ]
  },
  {
   "cell_type": "code",
   "execution_count": 1,
   "metadata": {},
   "outputs": [],
   "source": [
    "import pandas as pd"
   ]
  },
  {
   "cell_type": "code",
   "execution_count": 3,
   "metadata": {},
   "outputs": [
    {
     "name": "stdout",
     "output_type": "stream",
     "text": [
      "   0\n",
      "0  1\n",
      "1  2\n",
      "2  3\n",
      "3  4\n",
      "4  5\n",
      "5  6\n",
      "<class 'pandas.core.frame.DataFrame'>\n"
     ]
    }
   ],
   "source": [
    "list=[1,2,3,4,5,6]\n",
    "\n",
    "var = pd.DataFrame(list)\n",
    "\n",
    "print(type(var))"
   ]
  },
  {
   "cell_type": "code",
   "execution_count": 12,
   "metadata": {},
   "outputs": [
    {
     "name": "stdout",
     "output_type": "stream",
     "text": [
      "   a   b  c  d\n",
      "0  1   1  1  2\n",
      "1  2   2  3  4\n",
      "2  3  46  5  6\n",
      "3  4   4  7  8\n",
      "4  5   7  9  0\n",
      "<class 'pandas.core.frame.DataFrame'>\n",
      "   a  d\n",
      "0  1  2\n",
      "1  2  4\n",
      "2  3  6\n",
      "3  4  8\n",
      "4  5  0\n",
      "3\n"
     ]
    }
   ],
   "source": [
    "dic={\"a\":[1,2,3,4,5],\"b\":[1,2,46,4,7],\"c\":[1,3,5,7,9],\"d\":[2,4,6,8,0]}\n",
    "\n",
    "var1 = pd.DataFrame(dic)\n",
    "var2 = pd.DataFrame(dic,columns=['a','d'])\n",
    "\n",
    "\n",
    "print(var1)\n",
    "print(type(var1))\n",
    "\n",
    "print(var2)\n",
    "\n",
    "# Get Data\n",
    "print(var1['a'][2])"
   ]
  },
  {
   "cell_type": "code",
   "execution_count": 15,
   "metadata": {},
   "outputs": [
    {
     "name": "stdout",
     "output_type": "stream",
     "text": [
      "   0  1  2  3  4\n",
      "0  0  1  2  3  4\n",
      "1  5  6  7  8  9\n"
     ]
    }
   ],
   "source": [
    "# Operating on lists\n",
    "list=[[0,1,2,3,4],[5,6,7,8,9]]\n",
    "\n",
    "var3=pd.DataFrame(list)\n",
    "print(var3)"
   ]
  },
  {
   "cell_type": "code",
   "execution_count": 16,
   "metadata": {},
   "outputs": [
    {
     "name": "stdout",
     "output_type": "stream",
     "text": [
      "   s  r\n",
      "0  1  5\n",
      "1  2  6\n",
      "2  3  7\n",
      "3  4  8\n"
     ]
    }
   ],
   "source": [
    "# Operaing using series\n",
    "sr ={\"s\":pd.Series([1,2,3,4]), \"r\":pd.Series([5,6,7,8])}\n",
    "var4 = pd.DataFrame(sr)\n",
    "print(var4)"
   ]
  },
  {
   "cell_type": "code",
   "execution_count": null,
   "metadata": {},
   "outputs": [],
   "source": []
  }
 ],
 "metadata": {
  "kernelspec": {
   "display_name": "Python 3",
   "language": "python",
   "name": "python3"
  },
  "language_info": {
   "codemirror_mode": {
    "name": "ipython",
    "version": 3
   },
   "file_extension": ".py",
   "mimetype": "text/x-python",
   "name": "python",
   "nbconvert_exporter": "python",
   "pygments_lexer": "ipython3",
   "version": "3.11.3"
  },
  "orig_nbformat": 4
 },
 "nbformat": 4,
 "nbformat_minor": 2
}
