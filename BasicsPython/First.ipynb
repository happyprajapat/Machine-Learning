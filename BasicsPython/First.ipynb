{
 "cells": [
  {
   "cell_type": "code",
   "execution_count": 1,
   "metadata": {},
   "outputs": [
    {
     "name": "stdout",
     "output_type": "stream",
     "text": [
      "Hello\n"
     ]
    }
   ],
   "source": [
    "print(\"Hello\")"
   ]
  },
  {
   "cell_type": "code",
   "execution_count": 3,
   "metadata": {},
   "outputs": [
    {
     "name": "stdout",
     "output_type": "stream",
     "text": [
      "22\n",
      "19.22\n",
      "Prajapat\n"
     ]
    }
   ],
   "source": [
    "# Variables\n",
    "age=22\n",
    "price=19.22\n",
    "first_name = 'Prajapat'\n",
    "print(age)\n",
    "print(price)\n",
    "print(first_name)\n"
   ]
  },
  {
   "cell_type": "code",
   "execution_count": 5,
   "metadata": {},
   "outputs": [
    {
     "name": "stdout",
     "output_type": "stream",
     "text": [
      "Hello, Happy\n"
     ]
    }
   ],
   "source": [
    "#Recieving Inputs\n",
    "\n",
    "name=input('What is your name? ')\n",
    "print(\"Hello, \"+ name)"
   ]
  },
  {
   "cell_type": "code",
   "execution_count": 11,
   "metadata": {},
   "outputs": [
    {
     "name": "stdout",
     "output_type": "stream",
     "text": [
      "Sum : 33.33\n"
     ]
    }
   ],
   "source": [
    "# Type conversion -> numbers,string or booleans\n",
    "\n",
    "birth_year = input(\"Enter the birth year : \")\n",
    "# Remember 2003 is number and \"2003\" is a string\n",
    "# age = 2023 - birth_year\n",
    "# THIS LINE SHOWS ERROR DUE TO TYPE CONVERSION\n",
    "age = 2023 - int(birth_year)\n",
    "print(age)\n",
    "\n",
    "first = input(\"First : \")\n",
    "second = input(\"Second : \")\n",
    "sum= float(first) + float(second)\n",
    "print(\"Sum : \" + str(sum))\n"
   ]
  },
  {
   "cell_type": "code",
   "execution_count": 17,
   "metadata": {},
   "outputs": [
    {
     "name": "stdout",
     "output_type": "stream",
     "text": [
      "TODAY IS A NEW BEGINNING!\n",
      "Today is a great beginning!\n",
      "6\n",
      "True\n"
     ]
    }
   ],
   "source": [
    "# Strings\n",
    "\n",
    "quote =\"Today is a new beginning!\"\n",
    "print(quote.upper())\n",
    "print(quote.replace(\"new\", \"great\"))\n",
    "print(quote.find('is'))\n",
    "print('is' in quote)\n"
   ]
  },
  {
   "cell_type": "code",
   "execution_count": 18,
   "metadata": {},
   "outputs": [
    {
     "name": "stdout",
     "output_type": "stream",
     "text": [
      "13\n",
      "7\n",
      "30\n",
      "3.3333333333333335\n",
      "3\n",
      "1\n",
      "1000\n"
     ]
    }
   ],
   "source": [
    "# Arithmetic Operators\n",
    "print(10 + 3)\n",
    "print(10 - 3)\n",
    "print(10 * 3)\n",
    "print(10 / 3)\n",
    "print(10 // 3)\n",
    "print(10 % 3)\n",
    "print(10 ** 3)\n"
   ]
  },
  {
   "cell_type": "code",
   "execution_count": 27,
   "metadata": {},
   "outputs": [
    {
     "name": "stdout",
     "output_type": "stream",
     "text": [
      "Is a nice day\n",
      "Done\n",
      "Weight in Lbs : 168.88888888888889\n"
     ]
    }
   ],
   "source": [
    "#If Condition\n",
    " \n",
    "temp = 22\n",
    "if temp >30:\n",
    "    print(\"It's a hot day.\")\n",
    "    print(\"Drink lots of water.\")\n",
    "elif temp >20 and temp<25:\n",
    "    print(\"Is a nice day\")\n",
    "else:\n",
    "    print(\"Its a cold day.\")    \n",
    "print(\"Done\")\n",
    "\n",
    "\n",
    "wgt=int(input(\"Weight : \"))\n",
    "choice= input((\"(K)g or(L)bs : \"))\n",
    "\n",
    "if choice=='K' or choice==\"k\":\n",
    "    print(\"Weight in Lbs : \" + str(float(wgt)/0.45) )\n",
    "elif choice==\"L\" or choice==\"l\":\n",
    "    print(\"Weight in Kg : \"+ str(float(wgt)*0.45 ))\n",
    "\n"
   ]
  },
  {
   "cell_type": "code",
   "execution_count": 30,
   "metadata": {},
   "outputs": [
    {
     "name": "stdout",
     "output_type": "stream",
     "text": [
      "*\n",
      "**\n",
      "***\n",
      "****\n",
      "*****\n"
     ]
    }
   ],
   "source": [
    "# While Loop\n",
    "\n",
    "i=1\n",
    "while i<=5:\n",
    "    print(i * '*')\n",
    "    i=i+1"
   ]
  },
  {
   "cell_type": "code",
   "execution_count": 36,
   "metadata": {},
   "outputs": [
    {
     "name": "stdout",
     "output_type": "stream",
     "text": [
      "Happy\n",
      "Hai\n",
      "Happyy\n",
      "['Happyy', 'Prajapat', 'Kya']\n"
     ]
    }
   ],
   "source": [
    "names=[\"Happy\",\"Prajapat\",\"Kya\",\"haal\",\"Hai\"]\n",
    "print(names[0])\n",
    "print(names[-1])\n",
    "names[0]=\"Happyy\"\n",
    "print(names[0])\n",
    "print(names[0:3])"
   ]
  },
  {
   "cell_type": "code",
   "execution_count": 42,
   "metadata": {},
   "outputs": [
    {
     "name": "stdout",
     "output_type": "stream",
     "text": [
      "[]\n"
     ]
    }
   ],
   "source": [
    "numbers=[1,2,3,4,5,6]\n",
    "numbers.append(7)\n",
    "numbers.insert(0,0)\n",
    "numbers.remove(7)\n",
    "# numbers.clear()\n",
    "print(numbers)"
   ]
  },
  {
   "cell_type": "code",
   "execution_count": 45,
   "metadata": {},
   "outputs": [
    {
     "name": "stdout",
     "output_type": "stream",
     "text": [
      "For loop\n",
      "1\n",
      "2\n",
      "3\n",
      "4\n",
      "5\n",
      "6\n",
      "While Loop\n",
      "1\n",
      "2\n",
      "3\n",
      "4\n",
      "5\n",
      "6\n",
      "DONE\n"
     ]
    }
   ],
   "source": [
    "numbers=[1,2,3,4,5,6]\n",
    "print(\"For loop\")\n",
    "for item in numbers:\n",
    "    print(item)\n",
    "\n",
    "print(\"While Loop\")\n",
    "i=0\n",
    "while i<len(numbers):\n",
    "    print(numbers[i])\n",
    "    i=i+1\n",
    "print(\"DONE\")"
   ]
  },
  {
   "cell_type": "code",
   "execution_count": 48,
   "metadata": {},
   "outputs": [
    {
     "name": "stdout",
     "output_type": "stream",
     "text": [
      "0\n",
      "1\n",
      "2\n",
      "3\n",
      "4\n",
      "Done\n",
      "5\n",
      "6\n",
      "7\n",
      "8\n",
      "Done\n",
      "5\n",
      "7\n",
      "9\n",
      "Done\n"
     ]
    }
   ],
   "source": [
    "# Range(x,y) number including x and excluding y\n",
    "numbers=range(5)\n",
    "for number in numbers:\n",
    "    print(number)\n",
    "print(\"Done\")\n",
    "\n",
    "numbers=range(5,9)\n",
    "for number in numbers:\n",
    "    print(number)\n",
    "print(\"Done\")\n",
    "\n",
    "\n",
    "numbers=range(5,11,2)\n",
    "for number in numbers:\n",
    "    print(number)\n",
    "print(\"Done\")\n"
   ]
  },
  {
   "cell_type": "code",
   "execution_count": null,
   "metadata": {},
   "outputs": [],
   "source": [
    "# Tupple\n",
    "# They are immutable Represented by ()"
   ]
  }
 ],
 "metadata": {
  "kernelspec": {
   "display_name": "Python 3",
   "language": "python",
   "name": "python3"
  },
  "language_info": {
   "codemirror_mode": {
    "name": "ipython",
    "version": 3
   },
   "file_extension": ".py",
   "mimetype": "text/x-python",
   "name": "python",
   "nbconvert_exporter": "python",
   "pygments_lexer": "ipython3",
   "version": "3.11.3"
  },
  "orig_nbformat": 4
 },
 "nbformat": 4,
 "nbformat_minor": 2
}
